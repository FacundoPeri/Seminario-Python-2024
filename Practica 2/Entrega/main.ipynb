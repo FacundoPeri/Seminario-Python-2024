{
 "cells": [
  {
   "cell_type": "markdown",
   "metadata": {},
   "source": [
    "# **Entrega de Seminario de Python Nro 2**\n",
    "\n",
    "Se realizará un programa que resolverá el ejercicio 10 de la práctica 2.\n",
    "\n",
    "### **CONSIGNA:**\n",
    "10) Un club de hockey posee las estadísticas de todxs sus jugadorxs de la última temporada jugada del torneo de hockey mixto. Poseen una lista con los nombres, otra con los goles a favor, otra con los goles evitados y la última con las asistencias realizadas. El club está por otorgar los premios de cierre de temporada y necesita:\n",
    "\n",
    "- **1-** Generar una estructura todas las estadísticas asociadas a cada jugador o jugadora.\n",
    "\n",
    "- **2-** Conocer el nombre y la cantidad de goles del goleador o goleadora.\n",
    "\n",
    "- **3-** Conocer el nombre del jugador o jugadora más influyente, esto se consigue sumando goles a favor, goles evitados y cantidad de asistencias. La particularidad es que los goles a favor, evitados y las asistencias NO valen lo mismo (es un promedio ponderado).\n",
    "\n",
    "- **4-** Conocer el promedio de goles por partido del equipo en general. Dato: Se jugaron 25 partidos en la temporada.\n",
    "\n",
    "- **5-** Conocer el promedio de goles por partido del goleador o goleadora. Dato: Se jugaron 25 partidos en la temporada.\n",
    "\n",
    "#### **NOTAS:**\n",
    "- Las 4 estructuras están ordenadas de forma que los elementos en la misma posición corresponden a un mismo jugador o jugadora.\n",
    "\n",
    "- Realizar funciones con cada ítem\n",
    "\n",
    "#### **CODIGO:**\n"
   ]
  },
  {
   "cell_type": "markdown",
   "metadata": {},
   "source": [
    "**Importo el modulo con las funciones que utilizaré. A su vez creo una variable con la cantidad de partidos jugados**"
   ]
  },
  {
   "cell_type": "code",
   "execution_count": 1,
   "metadata": {},
   "outputs": [],
   "source": [
    "from Funciones import incisos\n",
    "\n",
    "cant_partidos = 25"
   ]
  },
  {
   "cell_type": "markdown",
   "metadata": {},
   "source": [
    "**Genero la estructura con las estadisticas de cada jugador/a y la imprimo por pantalla.**"
   ]
  },
  {
   "cell_type": "code",
   "execution_count": 2,
   "metadata": {},
   "outputs": [
    {
     "name": "stdout",
     "output_type": "stream",
     "text": [
      "{' Agustin': {'Goles': 0, 'Evitados': 0, 'Asistencias': 0}, 'Yanina': {'Goles': 10, 'Evitados': 2, 'Asistencias': 5}, 'Andrés': {'Goles': 4, 'Evitados': 0, 'Asistencias': 1}, 'Ariadna': {'Goles': 0, 'Evitados': 0, 'Asistencias': 0}, 'Bautista': {'Goles': 5, 'Evitados': 5, 'Asistencias': 5}, 'CAROLINA': {'Goles': 14, 'Evitados': 2, 'Asistencias': 2}, 'CESAR': {'Goles': 0, 'Evitados': 0, 'Asistencias': 0}, 'David': {'Goles': 0, 'Evitados': 0, 'Asistencias': 0}, 'Diego': {'Goles': 7, 'Evitados': 1, 'Asistencias': 1}, 'Dolores': {'Goles': 2, 'Evitados': 2, 'Asistencias': 2}, 'DYLAN': {'Goles': 1, 'Evitados': 0, 'Asistencias': 1}, '\\n    ELIANA': {'Goles': 1, 'Evitados': 5, 'Asistencias': 5}, 'Emanuel': {'Goles': 1, 'Evitados': 5, 'Asistencias': 5}, 'Fabián': {'Goles': 5, 'Evitados': 0, 'Asistencias': 0}, 'Noelia': {'Goles': 6, 'Evitados': 1, 'Asistencias': 1}, \"Francsica'\": {'Goles': 1, 'Evitados': 0, 'Asistencias': 0}, 'FEDERICO': {'Goles': 1, 'Evitados': 2, 'Asistencias': 2}, 'Fernanda': {'Goles': 2, 'Evitados': 3, 'Asistencias': 3}, 'GONZALO': {'Goles': 0, 'Evitados': 0, 'Asistencias': 1}, 'Nancy ': {'Goles': 11, 'Evitados': 0, 'Asistencias': 0}}\n"
     ]
    }
   ],
   "source": [
    "estadisticas = incisos.inciso_a()\n",
    "print(estadisticas)"
   ]
  },
  {
   "cell_type": "markdown",
   "metadata": {},
   "source": [
    "**Busco en la estructura generada anteriormente, el nombre y la cantidad de goles del goleador/a y lo informo por pantalla**"
   ]
  },
  {
   "cell_type": "code",
   "execution_count": 3,
   "metadata": {},
   "outputs": [
    {
     "name": "stdout",
     "output_type": "stream",
     "text": [
      "El goleador/a es CAROLINA con 14 goles!\n"
     ]
    }
   ],
   "source": [
    "goleador, goles_goleador = incisos.inciso_b(estadisticas)\n",
    "print(f\"El goleador/a es {goleador} con {goles_goleador} goles!\")"
   ]
  },
  {
   "cell_type": "markdown",
   "metadata": {},
   "source": [
    "**Busco el nombre del jugador mas influyente dentro de la estructura generada anteriormente y lo informo por pantalla**"
   ]
  },
  {
   "cell_type": "code",
   "execution_count": 4,
   "metadata": {},
   "outputs": [
    {
     "name": "stdout",
     "output_type": "stream",
     "text": [
      "El jugador/a mas influyente es CAROLINA\n"
     ]
    }
   ],
   "source": [
    "influyente = incisos.inciso_c(estadisticas)\n",
    "print(f\"El jugador/a mas influyente es {influyente}\")"
   ]
  },
  {
   "cell_type": "markdown",
   "metadata": {},
   "source": [
    "**Calculo el promedio de goles por partido del equipo en general y lo imprimo por pantalla.**"
   ]
  },
  {
   "cell_type": "code",
   "execution_count": 5,
   "metadata": {},
   "outputs": [
    {
     "name": "stdout",
     "output_type": "stream",
     "text": [
      "El promedio de goles por partido del equipo es 2.84\n"
     ]
    }
   ],
   "source": [
    "prom_goles = incisos.inciso_d(estadisticas,cant_partidos)\n",
    "print(f\"El promedio de goles por partido del equipo es {prom_goles}\")"
   ]
  },
  {
   "cell_type": "markdown",
   "metadata": {},
   "source": [
    "**Imprimo por pantalla el promedio de goles por partido del goleador/a**"
   ]
  },
  {
   "cell_type": "code",
   "execution_count": 6,
   "metadata": {},
   "outputs": [
    {
     "name": "stdout",
     "output_type": "stream",
     "text": [
      "El promedio de goles por partido de CAROLINA es 0.56\n"
     ]
    }
   ],
   "source": [
    "prom_goleador = goles_goleador / cant_partidos\n",
    "print(f\"El promedio de goles por partido de {goleador} es {prom_goleador}\")"
   ]
  },
  {
   "cell_type": "markdown",
   "metadata": {},
   "source": []
  }
 ],
 "metadata": {
  "kernelspec": {
   "display_name": "venv",
   "language": "python",
   "name": "python3"
  },
  "language_info": {
   "codemirror_mode": {
    "name": "ipython",
    "version": 3
   },
   "file_extension": ".py",
   "mimetype": "text/x-python",
   "name": "python",
   "nbconvert_exporter": "python",
   "pygments_lexer": "ipython3",
   "version": "3.11.7"
  }
 },
 "nbformat": 4,
 "nbformat_minor": 2
}
